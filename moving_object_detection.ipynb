{
 "cells": [
  {
   "cell_type": "code",
   "execution_count": 2,
   "metadata": {},
   "outputs": [],
   "source": [
    "import cv2\n",
    "import numpy as np"
   ]
  },
  {
   "cell_type": "code",
   "execution_count": 7,
   "metadata": {},
   "outputs": [],
   "source": [
    "video = cv2.VideoCapture(\"resources/walk_in_road.mp4\") #u can upload ur own video\n",
    "\n",
    "while True:\n",
    "    success , img_webcam = video.read()\n",
    "    success , img_webcam2 = video.read()\n",
    "    if success == True:\n",
    "        \n",
    "        diff = cv2.absdiff(img_webcam,img_webcam2)\n",
    "        grey = cv2.cvtColor(diff,cv2.COLOR_BGR2GRAY)\n",
    "       \n",
    "        blur = cv2.GaussianBlur(diff,(7,7),0)\n",
    "        ret , thres = cv2.threshold(blur,10,255,cv2.THRESH_BINARY)\n",
    "        \n",
    "        \n",
    "        canny = cv2.Canny(thres,50,50)\n",
    "        dialate = cv2.dilate(canny,None,iterations=2)\n",
    "        \n",
    "        contour,heirarchy = cv2.findContours(dialate,cv2.RETR_EXTERNAL,cv2.CHAIN_APPROX_NONE)\n",
    "        for ctr in contour:\n",
    "        \n",
    "            cv2.drawContours(img_webcam2,ctr,-1,(10,23,205),3)\n",
    "            peri = cv2.arcLength(ctr,True)\n",
    "            \n",
    "            approx = cv2.approxPolyDP(ctr,0.01*peri,True)\n",
    "            x, y, w, h = cv2.boundingRect(approx)\n",
    "            area = w*h\n",
    "            if area>1500:\n",
    "               cv2.rectangle(img_webcam,(x,y),(x+w,y+h),(100,200,50),2)\n",
    "        \n",
    "        \n",
    "        \n",
    "        cv2.imshow(\"video\",img_webcam)\n",
    "        if cv2.waitKey(70) & 0xFF==ord('q'):\n",
    "            cv2.destroyAllWindows()\n",
    "            break\n",
    "            \n",
    "    else:\n",
    "        cv2.destroyAllWindows()\n",
    "        break\n",
    "        \n",
    "    \n",
    "    \n",
    "        "
   ]
  },
  {
   "cell_type": "code",
   "execution_count": null,
   "metadata": {},
   "outputs": [],
   "source": []
  }
 ],
 "metadata": {
  "kernelspec": {
   "display_name": "Python 3",
   "language": "python",
   "name": "python3"
  },
  "language_info": {
   "codemirror_mode": {
    "name": "ipython",
    "version": 3
   },
   "file_extension": ".py",
   "mimetype": "text/x-python",
   "name": "python",
   "nbconvert_exporter": "python",
   "pygments_lexer": "ipython3",
   "version": "3.7.3"
  }
 },
 "nbformat": 4,
 "nbformat_minor": 2
}
